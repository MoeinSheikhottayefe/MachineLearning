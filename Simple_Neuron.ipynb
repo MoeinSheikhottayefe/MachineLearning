{
  "nbformat": 4,
  "nbformat_minor": 0,
  "metadata": {
    "colab": {
      "provenance": [],
      "authorship_tag": "ABX9TyNIN8a+bJCHjpFBzDUTSMU7",
      "include_colab_link": true
    },
    "kernelspec": {
      "name": "python3",
      "display_name": "Python 3"
    },
    "language_info": {
      "name": "python"
    }
  },
  "cells": [
    {
      "cell_type": "markdown",
      "metadata": {
        "id": "view-in-github",
        "colab_type": "text"
      },
      "source": [
        "<a href=\"https://colab.research.google.com/github/MoeinSheikhottayefe/MachineLearning/blob/main/Simple_Neuron.ipynb\" target=\"_parent\"><img src=\"https://colab.research.google.com/assets/colab-badge.svg\" alt=\"Open In Colab\"/></a>"
      ]
    },
    {
      "cell_type": "code",
      "execution_count": null,
      "metadata": {
        "id": "4Ki5Hi1ykJIp"
      },
      "outputs": [],
      "source": [
        "import torch"
      ]
    },
    {
      "cell_type": "code",
      "source": [
        "x = torch.tensor([[1., 2., 0., 4., 1.],\n",
        "                  [0., 1., 1., 1., 1.],\n",
        "                  [2., 3., 0., 1., 4.]])\n",
        "\n",
        "w = torch.tensor([1., 0.5, 1., -1., -0.5])\n",
        "\n",
        "b = torch.tensor(1.)"
      ],
      "metadata": {
        "id": "hzxfjCi5kY03"
      },
      "execution_count": null,
      "outputs": []
    },
    {
      "cell_type": "code",
      "source": [
        "def Linear(x):\n",
        "  return x"
      ],
      "metadata": {
        "id": "6O7hRwOOovTG"
      },
      "execution_count": null,
      "outputs": []
    },
    {
      "cell_type": "code",
      "source": [
        "def Step(x):\n",
        "  if x <0:\n",
        "    y = torch.tensor(0.)\n",
        "  if x == 0 :\n",
        "    y = torch.tensor(0.5)\n",
        "  if x> 0:\n",
        "    y = torch.tensor(1.)\n",
        "  return y"
      ],
      "metadata": {
        "id": "3i047Gy8qc7A"
      },
      "execution_count": null,
      "outputs": []
    },
    {
      "cell_type": "code",
      "source": [
        "def neuron(x , w, b, af):\n",
        "  z = 0\n",
        "  for xi, wi in zip (x,w):\n",
        "    z+=xi*wi\n",
        "  z+=b\n",
        "  y=af(z)\n",
        "  return y"
      ],
      "metadata": {
        "id": "7jU2SMx_lb96"
      },
      "execution_count": null,
      "outputs": []
    },
    {
      "cell_type": "code",
      "source": [
        "neuron(x[0], w,b, Step)"
      ],
      "metadata": {
        "colab": {
          "base_uri": "https://localhost:8080/"
        },
        "id": "bC2c--6opAZ8",
        "outputId": "d48b6e57-eb92-4018-d1d0-e03b9eee8fa1"
      },
      "execution_count": null,
      "outputs": [
        {
          "output_type": "execute_result",
          "data": {
            "text/plain": [
              "tensor(0.)"
            ]
          },
          "metadata": {},
          "execution_count": 13
        }
      ]
    },
    {
      "cell_type": "markdown",
      "source": [
        "Vectorized neuron"
      ],
      "metadata": {
        "id": "rRJqvy8Ptqg6"
      }
    },
    {
      "cell_type": "code",
      "source": [
        "def VecNeuron(x, w, b, af):\n",
        "  return(x @ w + b)"
      ],
      "metadata": {
        "id": "1QKVGBAzspcy"
      },
      "execution_count": null,
      "outputs": []
    },
    {
      "cell_type": "code",
      "source": [
        "VecNeuron(x[0] , w, b , Step)"
      ],
      "metadata": {
        "colab": {
          "base_uri": "https://localhost:8080/"
        },
        "id": "mlEyg5crs4Af",
        "outputId": "5b72e30a-c7cb-47f8-c279-6d4aac281d19"
      },
      "execution_count": null,
      "outputs": [
        {
          "output_type": "execute_result",
          "data": {
            "text/plain": [
              "tensor(-1.5000)"
            ]
          },
          "metadata": {},
          "execution_count": 18
        }
      ]
    },
    {
      "cell_type": "code",
      "source": [
        "class Neurons:\n",
        "  def __init__(self, n ,af):\n",
        "    self.w = torch.randn(n)\n",
        "    self.b = torch.randn(1)\n",
        "    self.af = af\n",
        "  def __call__(self,x):\n",
        "    return self.af(self.w @ x + self.b)\n",
        "\n"
      ],
      "metadata": {
        "id": "Y6QgSnJ8Z84U"
      },
      "execution_count": null,
      "outputs": []
    },
    {
      "cell_type": "code",
      "source": [
        "c= Neurons(5 , Linear)"
      ],
      "metadata": {
        "id": "h8XHrko_bBct"
      },
      "execution_count": null,
      "outputs": []
    },
    {
      "cell_type": "code",
      "source": [
        "y = torch.tensor([[1., 2., 0., 4., 1.],\n",
        "                  [0., 1., 1., 1., 1.],\n",
        "                  [2., 3., 0., 1., 4.]])"
      ],
      "metadata": {
        "id": "9H_-zclGd3_K"
      },
      "execution_count": null,
      "outputs": []
    },
    {
      "cell_type": "code",
      "source": [
        "c(y[0])"
      ],
      "metadata": {
        "colab": {
          "base_uri": "https://localhost:8080/"
        },
        "id": "e3k1cVV4cEjN",
        "outputId": "acd318ab-6da4-4ddc-cda6-878b63fd80e2"
      },
      "execution_count": null,
      "outputs": [
        {
          "output_type": "execute_result",
          "data": {
            "text/plain": [
              "tensor([-1.6846])"
            ]
          },
          "metadata": {},
          "execution_count": 56
        }
      ]
    }
  ]
}